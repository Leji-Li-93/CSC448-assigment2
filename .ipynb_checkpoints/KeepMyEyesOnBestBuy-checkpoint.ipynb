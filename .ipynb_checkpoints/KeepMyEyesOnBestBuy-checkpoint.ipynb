{
 "cells": [
  {
   "cell_type": "markdown",
   "metadata": {},
   "source": [
    "<a href=\"https://colab.research.google.com/github/Leji-Li-93/CSC448-assigment2/blob/main/KeepMyEyesOnBestBuy.ipynb\" target=\"_parent\">\n",
    "  <img src=\"https://colab.research.google.com/assets/colab-badge.svg\" alt=\"Open In Colab\"/>\n",
    "</a>"
   ]
  },
  {
   "cell_type": "markdown",
   "metadata": {},
   "source": [
    "## Where is my graphics card ?!?\n",
    "Because of the covid and the crypto market, we game players even cannot get a decent graphic card of our new setup.  \n",
    "Lucky enough, retailers will sometimes restock graphic cards.  \n",
    "But the sad thing is, supplies are still way less than our demand, those cards will be sold out in a second after the restock.  \n",
    "Here I create a python script to keey my eyes on one of my favorite retailer, best buy, to see whether it has my ideal graphic card, RTX 3060, in stock."
   ]
  },
  {
   "cell_type": "code",
   "execution_count": 2,
   "metadata": {},
   "outputs": [
    {
     "name": "stdout",
     "output_type": "stream",
     "text": [
      "No cards avaliable :(\n"
     ]
    }
   ],
   "source": [
    "from IPython.display import display, Markdown\n",
    "\n",
    "import requests\n",
    "from bs4 import BeautifulSoup\n",
    "\n",
    "# requset header so that we can get into bestbuy's server\n",
    "client_header = {\"User-Agent\": \"Mozilla/5.0\"}\n",
    "\n",
    "# bestbuy's header url for redirection\n",
    "bb_header_url = \"https://www.bestbuy.com/\"\n",
    "\n",
    "# url of bestbuy RTX 3060 searching results page\n",
    "target_url = \"https://www.bestbuy.com/site/searchpage.jsp?st=3060&_dyncharset=UTF-8&id=pcat17071&type=page&sc=Global&cp=1&nrp=&sp=&qp=&list=n&af=true&iht=y&usc=All+Categories&ks=960&keys=keys\"\n",
    "# use a list to host the avaliable cards\n",
    "in_stock_list = []\n",
    "\n",
    "# bestbuy sold out tag\n",
    "SOLD_OUT = \"SOLD_OUT\"\n",
    "\n",
    "total_records = 0\n",
    "\n",
    "try:\n",
    "    # get the raw html string from bestbuy's server\n",
    "    html = requests.get(target_url, headers=client_header)\n",
    "    \n",
    "    # convert the raw html to beautifualsoup object\n",
    "    page = BeautifulSoup(html.content, \"html.parser\")\n",
    "    \n",
    "    # get all the items on the search page\n",
    "    item_list = page.find_all(\"div\", class_=\"shop-sku-list-item\")\n",
    "    total_records = len(item_list)\n",
    "    \n",
    "    for item in item_list:\n",
    "        actual_button = item.find(\"button\", class_=\"c-button\")\n",
    "        # bestbuy uses 'data-button-state' attribute to control the avaliablity of the button\n",
    "        button_state = actual_button['data-button-state']\n",
    "        # the button state can be either \"ADD_TO_CARD\" or \"SOLD_OUT\"\n",
    "        if(button_state != SOLD_OUT):\n",
    "            # extract the useful information from the display item\n",
    "            card_name_container = item.find('h4', class_=\"sku-header\")\n",
    "            card_name = card_name_container.find('a').get_text()\n",
    "            temp_link = card_name_container.find('a', href=True)\n",
    "            card_link = f'{bb_header_url}{temp_link[\"href\"]}'\n",
    "            in_stock_list.append({\n",
    "                'name': card_name,\n",
    "                'link': card_link\n",
    "            })\n",
    "except Exception as w:\n",
    "    print(f'failed to load target url')\n",
    "    \n",
    "item_avaliable = len(in_stock_list)\n",
    "if(item_avaliable == 0):\n",
    "    print(\"No cards avaliable :(\")\n",
    "else:\n",
    "    print(f'{item_avaliable} out of {total_records} avaliable')\n",
    "    for item in in_stock_list:\n",
    "        # print the result with hyperlink\n",
    "        display(Markdown(f'[{item[\"name\"]}]({item[\"link\"]})'))"
   ]
  },
  {
   "cell_type": "code",
   "execution_count": null,
   "metadata": {},
   "outputs": [],
   "source": []
  }
 ],
 "metadata": {
  "kernelspec": {
   "display_name": "Python 3",
   "language": "python",
   "name": "python3"
  },
  "language_info": {
   "codemirror_mode": {
    "name": "ipython",
    "version": 3
   },
   "file_extension": ".py",
   "mimetype": "text/x-python",
   "name": "python",
   "nbconvert_exporter": "python",
   "pygments_lexer": "ipython3",
   "version": "3.7.4"
  }
 },
 "nbformat": 4,
 "nbformat_minor": 2
}
